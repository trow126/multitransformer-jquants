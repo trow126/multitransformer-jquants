{
 "cells": [
  {
   "cell_type": "markdown",
   "metadata": {},
   "source": [
    "# データ探索\n",
    "\n",
    "このノートブックではJ-Quants APIから取得した日本株データの探索的データ分析を行います。"
   ]
  },
  {
   "cell_type": "code",
   "execution_count": null,
   "metadata": {},
   "source": [
    "import pandas as pd\n",
    "import numpy as np\n",
    "import matplotlib.pyplot as plt\n",
    "import seaborn as sns\n",
    "import os\n",
    "import sys\n",
    "\n",
    "# 親ディレクトリをパスに追加\n",
    "sys.path.append('..')\n",
    "\n",
    "from src.data.jquants_client import JQuantsClient\n",
    "from src.data.data_processor import standardize_code, filter_topix500\n",
    "from src.utils.config import load_config\n",
    "\n",
    "# Jupyter Notebookの表示設定\n",
    "%matplotlib inline\n",
    "plt.rcParams['figure.figsize'] = (12, 8)\n",
    "sns.set_style('whitegrid')\n",
    "pd.set_option('display.max_columns', None)"
   ]
  },
  {
   "cell_type": "markdown",
   "metadata": {},
   "source": [
    "## 設定の読み込み"
   ]
  },
  {
   "cell_type": "code",
   "execution_count": null,
   "metadata": {},
   "source": [
    "# 設定ファイルの読み込み\n",
    "config = load_config('../configs/train_config.yaml')\n",
    "\n",
    "# データディレクトリの作成\n",
    "os.makedirs(config['paths']['data_dir'], exist_ok=True)"
   ]
  },
  {
   "cell_type": "markdown",
   "metadata": {},
   "source": [
    "## J-Quants APIからデータ取得\n",
    "\n",
    "APIアクセストークンが事前に設定されている必要があります。"
   ]
  },
  {
   "cell_type": "code",
   "execution_count": null,
   "metadata": {},
   "source": [
    "from datetime import datetime, timedelta\n",
    "\n",
    "# J-Quants APIクライアントの初期化\n",
    "client = JQuantsClient(\n",
    "    mail_address=config.get('jquants', {}).get('mail_address'),\n",
    "    password=config.get('jquants', {}).get('password'),\n",
    "    refresh_token=config.get('jquants', {}).get('refresh_token')\n",
    ")\n",
    "\n",
    "# データ期間の設定\n",
    "end_dt = datetime.now()\n",
    "start_dt = end_dt - timedelta(days=365 * config['data']['historical_years'])\n",
    "\n",
    "# TOPIX500銘柄の取得\n",
    "topix500_path = os.path.join(config['paths']['data_dir'], 'topix500.txt')\n",
    "if os.path.exists(topix500_path):\n",
    "    # すでにファイルが存在する場合は読み込み\n",
    "    with open(topix500_path, 'r') as f:\n",
    "        topix500 = f.read().splitlines()\n",
    "else:\n",
    "    # 新規取得\n",
    "    topix500 = client.get_topix500_tickers(save_path=topix500_path)\n",
    "\n",
    "print(f\"TOPIX500銘柄数: {len(topix500)}\")\n",
    "print(f\"サンプル銘柄: {topix500[:10]}\")"
   ]
  },
  {
   "cell_type": "code",
   "execution_count": null,
   "metadata": {},
   "source": [
    "# 株価データの取得\n",
    "stock_price_path = os.path.join(config['paths']['data_dir'], 'stock_price.csv.gz')\n",
    "if os.path.exists(stock_price_path):\n",
    "    # すでにファイルが存在する場合は読み込み\n",
    "    stock_price = pd.read_csv(stock_price_path, compression='gzip')\n",
    "else:\n",
    "    # 新規取得\n",
    "    stock_price = client.get_stock_data(start_dt, end_dt, save_path=stock_price_path)\n",
    "\n",
    "# データ前処理\n",
    "stock_price = standardize_code(stock_price)\n",
    "df_ohlcv = filter_topix500(stock_price, topix500)\n",
    "\n",
    "print(f\"株価データ行数: {len(df_ohlcv)}\")\n",
    "print(f\"日付範囲: {df_ohlcv['Date'].min()} から {df_ohlcv['Date'].max()}\")\n",
    "print(f\"ユニークな銘柄数: {df_ohlcv['Code'].nunique()}\")"
   ]
  },
  {
   "cell_type": "markdown",
   "metadata": {},
   "source": [
    "## データ概要の確認"
   ]
  },
  {
   "cell_type": "code",
   "execution_count": null,
   "metadata": {},
   "source": [
    "# データの先頭を確認\n",
    "df_ohlcv.head()"
   ]
  },
  {
   "cell_type": "code",
   "execution_count": null,
   "metadata": {},
   "source": [
    "# データ型の確認\n",
    "df_ohlcv.dtypes"
   ]
  },
  {
   "cell_type": "code",
   "execution_count": null,
   "metadata": {},
   "source": [
    "# 日付型への変換\n",
    "df_ohlcv['Date'] = pd.to_datetime(df_ohlcv['Date'])\n",
    "\n",
    "# 基本統計量の確認\n",
    "df_ohlcv.describe()"
   ]
  },
  {
   "cell_type": "markdown",
   "metadata": {},
   "source": [
    "## 特徴量計算"
   ]
  },
  {
   "cell_type": "code",
   "execution_count": null,
   "metadata": {},
   "source": [
    "# 特徴量計算モジュールのインポート\n",
    "from src.features.feature_generator import calc_features_and_targets\n",
    "\n",
    "# ボラティリティ予測用の特徴量計算\n",
    "df_vol = calc_features_and_targets(df_ohlcv, prediction_type='volatility')\n",
    "\n",
    "# 日中収益率予測用の特徴量計算\n",
    "df_ret = calc_features_and_targets(df_ohlcv, prediction_type='intraday_return')\n",
    "\n",
    "print(\"ボラティリティ予測用データ形状:\", df_vol.shape)\n",
    "print(\"日中収益率予測用データ形状:\", df_ret.shape)"
   ]
  },
  {
   "cell_type": "code",
   "execution_count": null,
   "metadata": {},
   "source": [
    "# 特徴量と目的変数を確認\n",
    "vol_features = [col for col in df_vol.columns if 'log_return_lag' in col or 'volatility_5d' in col]\n",
    "print(\"ボラティリティ予測用特徴量:\")\n",
    "print(vol_features)\n",
    "print(\"\\nボラティリティ予測用目的変数: target_vol\")\n",
    "\n",
    "ret_features = [col for col in df_ret.columns if 'log_return_lag' in col or 'volatility_5d' in col]\n",
    "print(\"\\n日中収益率予測用特徴量:\")\n",
    "print(ret_features)\n",
    "print(\"\\n日中収益率予測用目的変数: target_return\")"
   ]
  },
  {
   "cell_type": "markdown",
   "metadata": {},
   "source": [
    "## 特徴量の分布の確認"
   ]
  },
  {
   "cell_type": "code",
   "execution_count": null,
   "metadata": {},
   "source": [
    "# 対数収益率の分布\n",
    "plt.figure(figsize=(12, 6))\n",
    "plt.hist(df_vol['log_return'].dropna(), bins=100, alpha=0.7)\n",
    "plt.title('対数収益率の分布')\n",
    "plt.xlabel('対数収益率')\n",
    "plt.ylabel('頻度')\n",
    "plt.grid(True, alpha=0.3)\n",
    "plt.show()"
   ]
  },
  {
   "cell_type": "code",
   "execution_count": null,
   "metadata": {},
   "source": [
    "# 5日間ボラティリティの分布\n",
    "plt.figure(figsize=(12, 6))\n",
    "plt.hist(df_vol['volatility_5d'].dropna(), bins=100, alpha=0.7)\n",
    "plt.title('5日間ボラティリティの分布')\n",
    "plt.xlabel('ボラティリティ')\n",
    "plt.ylabel('頻度')\n",
    "plt.grid(True, alpha=0.3)\n",
    "plt.show()"
   ]
  },
  {
   "cell_type": "code",
   "execution_count": null,
   "metadata": {},
   "source": [
    "# 目的変数の分布\n",
    "plt.figure(figsize=(12, 6))\n",
    "\n",
    "plt.subplot(1, 2, 1)\n",
    "plt.hist(df_vol['target_vol'].dropna(), bins=100, alpha=0.7)\n",
    "plt.title('将来5日間ボラティリティの分布')\n",
    "plt.xlabel('ボラティリティ')\n",
    "plt.ylabel('頻度')\n",
    "plt.grid(True, alpha=0.3)\n",
    "\n",
    "plt.subplot(1, 2, 2)\n",
    "plt.hist(df_ret['target_return'].dropna(), bins=100, alpha=0.7)\n",
    "plt.title('翌日の日中収益率の分布')\n",
    "plt.xlabel('収益率')\n",
    "plt.ylabel('頻度')\n",
    "plt.grid(True, alpha=0.3)\n",
    "\n",
    "plt.tight_layout()\n",
    "plt.show()"
   ]
  },
  {
   "cell_type": "markdown",
   "metadata": {},
   "source": [
    "## 特徴量間の相関関係"
   ]
  },
  {
   "cell_type": "code",
   "execution_count": null,
   "metadata": {},
   "source": [
    "# 特徴量間の相関関係\n",
    "corr = df_vol[vol_features].corr()\n",
    "\n",
    "plt.figure(figsize=(14, 12))\n",
    "sns.heatmap(corr, annot=False, cmap='coolwarm', vmin=-1, vmax=1)\n",
    "plt.title('特徴量間の相関係数')\n",
    "plt.tight_layout()\n",
    "plt.show()"
   ]
  },
  {
   "cell_type": "markdown",
   "metadata": {},
   "source": [
    "## 銘柄ごとの特性"
   ]
  },
  {
   "cell_type": "code",
   "execution_count": null,
   "metadata": {},
   "source": [
    "# 銘柄ごとの平均ボラティリティ\n",
    "code_vol = df_vol.groupby('Code')['volatility_5d'].mean().sort_values(ascending=False)\n",
    "\n",
    "plt.figure(figsize=(14, 6))\n",
    "code_vol.head(30).plot(kind='bar')\n",
    "plt.title('銘柄別平均ボラティリティ（上位30銘柄）')\n",
    "plt.xlabel('銘柄コード')\n",
    "plt.ylabel('平均ボラティリティ')\n",
    "plt.grid(True, alpha=0.3)\n",
    "plt.tight_layout()\n",
    "plt.show()"
   ]
  },
  {
   "cell_type": "code",
   "execution_count": null,
   "metadata": {},
   "source": [
    "# 銘柄ごとの平均日中収益率\n",
    "code_intraday = df_ret.groupby('Code')['target_return'].mean().sort_values(ascending=False)\n",
    "\n",
    "plt.figure(figsize=(14, 6))\n",
    "code_intraday.head(30).plot(kind='bar')\n",
    "plt.title('銘柄別平均日中収益率（上位30銘柄）')\n",
    "plt.xlabel('銘柄コード')\n",
    "plt.ylabel('平均日中収益率')\n",
    "plt.grid(True, alpha=0.3)\n",
    "plt.tight_layout()\n",
    "plt.show()"
   ]
  },
  {
   "cell_type": "markdown",
   "metadata": {},
   "source": [
    "## 時系列の確認"
   ]
  },
  {
   "cell_type": "code",
   "execution_count": null,
   "metadata": {},
   "source": [
    "# 銘柄を1つ選択して時系列を確認\n",
    "sample_code = topix500[0]  # 最初の銘柄を選択\n",
    "df_sample = df_vol[df_vol['Code'] == sample_code].sort_values('Date')\n",
    "\n",
    "# 株価と収益率の時系列\n",
    "plt.figure(figsize=(14, 10))\n",
    "\n",
    "plt.subplot(3, 1, 1)\n",
    "plt.plot(df_sample['Date'], df_sample['Close'])\n",
    "plt.title(f'銘柄 {sample_code} の終値の推移')\n",
    "plt.ylabel('終値')\n",
    "plt.grid(True, alpha=0.3)\n",
    "\n",
    "plt.subplot(3, 1, 2)\n",
    "plt.plot(df_sample['Date'], df_sample['log_return'])\n",
    "plt.title(f'銘柄 {sample_code} の対数収益率の推移')\n",
    "plt.ylabel('対数収益率')\n",
    "plt.grid(True, alpha=0.3)\n",
    "\n",
    "plt.subplot(3, 1, 3)\n",
    "plt.plot(df_sample['Date'], df_sample['volatility_5d'])\n",
    "plt.title(f'銘柄 {sample_code} のボラティリティの推移')\n",
    "plt.ylabel('5日間ボラティリティ')\n",
    "plt.grid(True, alpha=0.3)\n",
    "\n",
    "plt.tight_layout()\n",
    "plt.show()"
   ]
  },
  {
   "cell_type": "markdown",
   "metadata": {},
   "source": [
    "## まとめ\n",
    "\n",
    "このノートブックでは、J-Quants APIから取得した日本株データの基本的な探索を行いました。以下の内容を確認しました：\n",
    "\n",
    "1. データ取得と前処理\n",
    "2. 特徴量計算\n",
    "3. 特徴量の分布と相関関係\n",
    "4. 銘柄ごとの特性\n",
    "5. 時系列の確認\n",
    "\n",
    "次のステップでは、これらの特徴量を使用して、MultiTransformerモデルを構築し、ボラティリティと日中収益率の予測を行います。"
   ]
  }
 ],
 "metadata": {
  "kernelspec": {
   "display_name": "Python 3",
   "language": "python",
   "name": "python3"
  },
  "language_info": {
   "codemirror_mode": {
    "name": "ipython",
    "version": 3
   },
   "file_extension": ".py",
   "mimetype": "text/x-python",
   "name": "python",
   "nbconvert_exporter": "python",
   "pygments_lexer": "ipython3",
   "version": "3.8.10"
  }
 },
 "nbformat": 4,
 "nbformat_minor": 4
}